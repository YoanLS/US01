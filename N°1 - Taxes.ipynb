{
 "cells": [
  {
   "cell_type": "markdown",
   "metadata": {},
   "source": [
    "# First tutorial\n",
    "\n",
    "## First python code: the tip exercise\n",
    "\n",
    "### First we gonna try some basic python exercise ans making a tip"
   ]
  },
  {
   "cell_type": "markdown",
   "metadata": {},
   "source": [
    "#### Visualization of the untreated data"
   ]
  },
  {
   "cell_type": "code",
   "execution_count": 2,
   "metadata": {},
   "outputs": [
    {
     "data": {
      "text/plain": [
       "'\\nAlabama\\t4%\\t13.5%\\t\\t\\t\\t\\t\\t\\nAlaska\\t0%\\t7%\\t\\t\\t\\t\\t\\t\\nArizona\\t5.6%\\t10.725%\\t\\t\\t\\t\\t\\t\\nArkansas\\t6.5%\\t11.625%\\t1.5%+\\t\\t\\t\\t\\t\\nCalifornia\\t7.25%\\t10.25%\\t\\t\\t\\t\\t\\t\\nColorado\\t2.9%\\t10%\\t\\t\\t\\t\\t\\t\\nConnecticut\\t6.35%\\t6.35%\\t\\t\\t\\t\\t\\t1%\\nDelaware\\t0%\\t0%\\t\\t\\t\\t\\t\\t\\nDistrict of Columbia\\t5.75%\\t5.75%\\t\\t10%\\t\\t\\t\\t\\nFlorida\\t6%\\t7.5%\\t\\t9% (max)\\t\\t\\t\\t\\nGeorgia\\t4%\\t8%\\t4% (max)[40]\\t\\t\\t\\t\\t\\nGuam\\t4%\\t4%\\t\\t\\t\\t\\t\\nHawaii\\t4.166%\\t4.712%\\t\\t\\t\\t\\t\\t\\nIdaho\\t6%\\t8.5%\\t\\t\\t[41]\\t\\t\\t\\nIllinois\\t6.25%\\t10.25%\\t1%+\\t8.25%+\\t1%+\\t1%+\\t\\t\\nIndiana\\t7%\\t7%\\t\\t9% (max)\\t\\t\\t\\t\\nIowa[42]\\t6%\\t7%\\t\\t\\t\\t\\t\\t\\nKansas\\t6.5%\\t10.15%\\t\\t\\t\\t\\t\\t\\nKentucky\\t6%\\t6%\\t\\t\\t\\t\\t\\t\\nLouisiana\\t5%\\t12%\\t7.0% (max)\\t\\t\\t\\t\\t\\nMaine\\t5.5%\\t5.5%\\t\\t8%\\t\\t\\t\\t\\nMaryland\\t6%\\t6%\\t\\t\\t\\t\\t\\t\\nMassachusetts\\t6.25%\\t6.25%\\t\\t7% (max)\\t\\t\\t> $175\\t\\nMichigan\\t6%\\t6%\\t\\t\\t\\t\\t\\t\\nMinnesota\\t6.875%\\t7.875%\\t\\t10.775% (max)\\t\\t\\t\\t\\nMississippi\\t7%\\t7.25%\\t\\t\\t\\t\\t\\t\\nMissouri\\t4.225%\\t10.85%\\t1.225%\\t\\t\\t\\t\\t\\nMontana\\t0%\\t0%\\t\\t\\t\\t\\t\\t\\nNebraska\\t5.5%\\t7.5%\\t\\t9.5% \\n(Omaha)\\t\\t\\t\\t\\nNevada\\t6.85%\\t8.25%\\t\\t\\t\\t\\t\\t\\nNew Hampshire\\t0%\\t0%\\t\\t9%\\t\\t\\t\\t\\nNew Jersey\\t6.625%\\t12.875%\\t\\t\\t\\t\\t\\t\\nNew Mexico\\t5.125%\\t8.688%\\t\\t\\t\\t\\t\\t\\nNew York\\t4%\\t8.875%\\t\\t\\t\\t\\t> $110\\t\\nNorth Carolina\\t4.75%\\t7.50%\\t2%\\t8.50% (max)\\t\\t\\t\\t\\nNorth Dakota [43]\\t5%\\t8%\\t\\t\\t\\t\\t\\t\\nOhio[44]\\t5.75%\\t8%\\t\\tDine-in\\t\\t\\t\\t\\nOklahoma\\t4.5%\\t11%\\t\\t\\t\\t\\t\\t\\nOregon\\t0%\\t0%\\t\\t\\t\\t\\t\\t\\nPennsylvania\\t6%\\t8%\\t\\t\\t\\t\\t\\t\\nPuerto Rico\\t10.5%\\t11.5%\\t1%\\t\\t\\t\\t\\nRhode Island\\t7%\\t7%\\t\\t8%\\t\\t\\t\\t\\nSouth Carolina\\t6%\\t9%\\t\\t10.5%\\t\\t\\t\\t\\nSouth Dakota\\t4%\\t6%\\t\\t\\t\\t\\t\\t\\nTennessee\\t7%\\t9.75%\\t4%+\\t\\t\\t\\t\\t\\nTexas\\t6.25%\\t8.25%\\t\\t\\t\\t\\t\\t\\nUtah\\t5.95%\\t8.35%\\t3%\\t\\t\\t\\t\\t\\nVermont\\t6%\\t7%\\t\\t9%+\\t\\t\\t> $110\\t\\nVirginia\\t5.3%\\t6%\\t2.5%\\t5.3%+\\t\\t\\t\\t\\nWashington\\t6.5%\\t10.4%\\t\\t10% (max)\\t\\t\\t\\t\\nWest Virginia\\t6%\\t7%\\t\\t\\t\\t\\t\\t\\nWisconsin\\t5%\\t6.75%\\t\\t\\t\\t\\t\\t\\nWyoming\\t4%\\t6%\\t\\t\\t\\t\\t\\t\\n'"
      ]
     },
     "execution_count": 2,
     "metadata": {},
     "output_type": "execute_result"
    }
   ],
   "source": [
    "rawTaxes = '''\n",
    "Alabama\t4%\t13.5%\t\t\t\t\t\t\n",
    "Alaska\t0%\t7%\t\t\t\t\t\t\n",
    "Arizona\t5.6%\t10.725%\t\t\t\t\t\t\n",
    "Arkansas\t6.5%\t11.625%\t1.5%+\t\t\t\t\t\n",
    "California\t7.25%\t10.25%\t\t\t\t\t\t\n",
    "Colorado\t2.9%\t10%\t\t\t\t\t\t\n",
    "Connecticut\t6.35%\t6.35%\t\t\t\t\t\t1%\n",
    "Delaware\t0%\t0%\t\t\t\t\t\t\n",
    "District of Columbia\t5.75%\t5.75%\t\t10%\t\t\t\t\n",
    "Florida\t6%\t7.5%\t\t9% (max)\t\t\t\t\n",
    "Georgia\t4%\t8%\t4% (max)[40]\t\t\t\t\t\n",
    "Guam\t4%\t4%\t\t\t\t\t\n",
    "Hawaii\t4.166%\t4.712%\t\t\t\t\t\t\n",
    "Idaho\t6%\t8.5%\t\t\t[41]\t\t\t\n",
    "Illinois\t6.25%\t10.25%\t1%+\t8.25%+\t1%+\t1%+\t\t\n",
    "Indiana\t7%\t7%\t\t9% (max)\t\t\t\t\n",
    "Iowa[42]\t6%\t7%\t\t\t\t\t\t\n",
    "Kansas\t6.5%\t10.15%\t\t\t\t\t\t\n",
    "Kentucky\t6%\t6%\t\t\t\t\t\t\n",
    "Louisiana\t5%\t12%\t7.0% (max)\t\t\t\t\t\n",
    "Maine\t5.5%\t5.5%\t\t8%\t\t\t\t\n",
    "Maryland\t6%\t6%\t\t\t\t\t\t\n",
    "Massachusetts\t6.25%\t6.25%\t\t7% (max)\t\t\t> $175\t\n",
    "Michigan\t6%\t6%\t\t\t\t\t\t\n",
    "Minnesota\t6.875%\t7.875%\t\t10.775% (max)\t\t\t\t\n",
    "Mississippi\t7%\t7.25%\t\t\t\t\t\t\n",
    "Missouri\t4.225%\t10.85%\t1.225%\t\t\t\t\t\n",
    "Montana\t0%\t0%\t\t\t\t\t\t\n",
    "Nebraska\t5.5%\t7.5%\t\t9.5% \n",
    "(Omaha)\t\t\t\t\n",
    "Nevada\t6.85%\t8.25%\t\t\t\t\t\t\n",
    "New Hampshire\t0%\t0%\t\t9%\t\t\t\t\n",
    "New Jersey\t6.625%\t12.875%\t\t\t\t\t\t\n",
    "New Mexico\t5.125%\t8.688%\t\t\t\t\t\t\n",
    "New York\t4%\t8.875%\t\t\t\t\t> $110\t\n",
    "North Carolina\t4.75%\t7.50%\t2%\t8.50% (max)\t\t\t\t\n",
    "North Dakota [43]\t5%\t8%\t\t\t\t\t\t\n",
    "Ohio[44]\t5.75%\t8%\t\tDine-in\t\t\t\t\n",
    "Oklahoma\t4.5%\t11%\t\t\t\t\t\t\n",
    "Oregon\t0%\t0%\t\t\t\t\t\t\n",
    "Pennsylvania\t6%\t8%\t\t\t\t\t\t\n",
    "Puerto Rico\t10.5%\t11.5%\t1%\t\t\t\t\n",
    "Rhode Island\t7%\t7%\t\t8%\t\t\t\t\n",
    "South Carolina\t6%\t9%\t\t10.5%\t\t\t\t\n",
    "South Dakota\t4%\t6%\t\t\t\t\t\t\n",
    "Tennessee\t7%\t9.75%\t4%+\t\t\t\t\t\n",
    "Texas\t6.25%\t8.25%\t\t\t\t\t\t\n",
    "Utah\t5.95%\t8.35%\t3%\t\t\t\t\t\n",
    "Vermont\t6%\t7%\t\t9%+\t\t\t> $110\t\n",
    "Virginia\t5.3%\t6%\t2.5%\t5.3%+\t\t\t\t\n",
    "Washington\t6.5%\t10.4%\t\t10% (max)\t\t\t\t\n",
    "West Virginia\t6%\t7%\t\t\t\t\t\t\n",
    "Wisconsin\t5%\t6.75%\t\t\t\t\t\t\n",
    "Wyoming\t4%\t6%\t\t\t\t\t\t\n",
    "'''\n",
    "\n",
    "rawTaxes\n"
   ]
  },
  {
   "cell_type": "markdown",
   "metadata": {},
   "source": [
    "# Data cleaning\n",
    "\n",
    "#### We create a dictionnary with each state and the tax applied in each one"
   ]
  },
  {
   "cell_type": "code",
   "execution_count": 18,
   "metadata": {},
   "outputs": [
    {
     "data": {
      "text/plain": [
       "{'alabama': 0.04,\n",
       " 'alaska': 0.0,\n",
       " 'arizona': 0.055999999999999994,\n",
       " 'arkansas': 0.065,\n",
       " 'california': 0.0725,\n",
       " 'colorado': 0.028999999999999998,\n",
       " 'connecticut': 0.0635,\n",
       " 'delaware': 0.0,\n",
       " 'district of columbia': 0.0575,\n",
       " 'florida': 0.06,\n",
       " 'georgia': 0.04,\n",
       " 'guam': 0.04,\n",
       " 'hawaii': 0.04166,\n",
       " 'idaho': 0.06,\n",
       " 'illinois': 0.0625,\n",
       " 'indiana': 0.07,\n",
       " 'iowa': 0.06,\n",
       " 'kansas': 0.065,\n",
       " 'kentucky': 0.06,\n",
       " 'louisiana': 0.05,\n",
       " 'maine': 0.055,\n",
       " 'maryland': 0.06,\n",
       " 'massachusetts': 0.0625,\n",
       " 'michigan': 0.06,\n",
       " 'minnesota': 0.06875,\n",
       " 'mississippi': 0.07,\n",
       " 'missouri': 0.042249999999999996,\n",
       " 'montana': 0.0,\n",
       " 'nebraska': 0.055,\n",
       " 'nevada': 0.06849999999999999,\n",
       " 'new hampshire': 0.0,\n",
       " 'new jersey': 0.06625,\n",
       " 'new mexico': 0.05125,\n",
       " 'new york': 0.04,\n",
       " 'north carolina': 0.0475,\n",
       " 'north dakota ': 0.05,\n",
       " 'ohio': 0.0575,\n",
       " 'oklahoma': 0.045,\n",
       " 'oregon': 0.0,\n",
       " 'pennsylvania': 0.06,\n",
       " 'puerto rico': 0.105,\n",
       " 'rhode island': 0.07,\n",
       " 'south carolina': 0.06,\n",
       " 'south dakota': 0.04,\n",
       " 'tennessee': 0.07,\n",
       " 'texas': 0.0625,\n",
       " 'utah': 0.059500000000000004,\n",
       " 'vermont': 0.06,\n",
       " 'virginia': 0.053,\n",
       " 'washington': 0.065,\n",
       " 'west virginia': 0.06,\n",
       " 'wisconsin': 0.05,\n",
       " 'wyoming': 0.04}"
      ]
     },
     "execution_count": 18,
     "metadata": {},
     "output_type": "execute_result"
    }
   ],
   "source": [
    "#Create a dictionnary\n",
    "taxes = {}\n",
    "\n",
    "for line in rawTaxes.split('\\n'):\n",
    "    if len(line)<2:\n",
    "        continue\n",
    "    if 'Omaha' in line:\n",
    "        continue\n",
    "#Select the state and add it as a key in the dictionnary\n",
    "    state = line.split('\\t')[0].split('[')[0].lower()\n",
    "#Select the value of the tax\n",
    "    nb = float(line.split('\\t')[1][:-1])/100\n",
    "    taxes[state] = nb\n",
    "    \n",
    "taxes"
   ]
  },
  {
   "cell_type": "markdown",
   "metadata": {},
   "source": [
    "# Now we look for the tip value\n",
    "\n",
    "#### First method, we cut the sentence and look for one of the dictionnary key"
   ]
  },
  {
   "cell_type": "code",
   "execution_count": 19,
   "metadata": {},
   "outputs": [
    {
     "name": "stdout",
     "output_type": "stream",
     "text": [
      "i\n",
      "think\n",
      "it\n",
      "was\n",
      "fcking\n",
      "bad\n",
      "we found it bad the value is 0.1\n"
     ]
    }
   ],
   "source": [
    "people = 4\n",
    "tip = 'i think it was fcking bad'\n",
    "tax = 0.3\n",
    "bill = 30\n",
    "tips = {'bad':0.1,'average':0.18,'good':0.2}\n",
    "\n",
    "\n",
    "finalTip = 'average' \n",
    "for word in tip.lower().split():                   \n",
    "    print(word)\n",
    "    if word in tips.keys():\n",
    "        finalTip = tips[word]\n",
    "    \n",
    "print('we found it', word,'the value is', finalTip)"
   ]
  },
  {
   "cell_type": "markdown",
   "metadata": {},
   "source": [
    "#### Second method, we look if one of the key is in the sentence"
   ]
  },
  {
   "cell_type": "code",
   "execution_count": 20,
   "metadata": {
    "scrolled": true
   },
   "outputs": [
    {
     "name": "stdout",
     "output_type": "stream",
     "text": [
      "bad\n",
      "we found it bad\n"
     ]
    }
   ],
   "source": [
    "for word in tips.keys():\n",
    "    print(word)\n",
    "    if word in tip:\n",
    "        print('we found it',word)\n",
    "        break"
   ]
  },
  {
   "cell_type": "markdown",
   "metadata": {},
   "source": [
    "# The total price of the bill"
   ]
  },
  {
   "cell_type": "code",
   "execution_count": 21,
   "metadata": {
    "scrolled": true
   },
   "outputs": [
    {
     "data": {
      "text/plain": [
       "37.8"
      ]
     },
     "execution_count": 21,
     "metadata": {},
     "output_type": "execute_result"
    }
   ],
   "source": [
    "#Parameters \n",
    "people = 4\n",
    "Atip = 'This one is very good'\n",
    "Atax = 'Best restaurant of Idaho from far'\n",
    "bill = 30\n",
    "tips = {'bad':0.1,'average':0.18,'good':0.2}\n",
    "\n",
    "#We look for the customer's appreciation and the state\n",
    "\n",
    "finalTip = 'average' \n",
    "for word in Atip.lower().split():                   \n",
    "    if word in tips.keys():\n",
    "        finalTip = tips[word]\n",
    "        \n",
    "       \n",
    "finalTax = 0 \n",
    "for word in Atax.lower().split():                   \n",
    "    if word in taxes.keys():\n",
    "        finalTax = taxes[word]\n",
    "\n",
    "#Total bill\n",
    "tip_value = finalTip*bill\n",
    "tax_value = finalTax*bill\n",
    "total = bill + tip_value + tax_value\n",
    "total"
   ]
  },
  {
   "cell_type": "markdown",
   "metadata": {},
   "source": [
    "# Price for each client"
   ]
  },
  {
   "cell_type": "code",
   "execution_count": 24,
   "metadata": {},
   "outputs": [
    {
     "name": "stdout",
     "output_type": "stream",
     "text": [
      "price per person is 9.45\n"
     ]
    }
   ],
   "source": [
    "print('price per person is',total/people)"
   ]
  },
  {
   "cell_type": "code",
   "execution_count": null,
   "metadata": {},
   "outputs": [],
   "source": []
  }
 ],
 "metadata": {
  "kernelspec": {
   "display_name": "Python 3",
   "language": "python",
   "name": "python3"
  },
  "language_info": {
   "codemirror_mode": {
    "name": "ipython",
    "version": 3
   },
   "file_extension": ".py",
   "mimetype": "text/x-python",
   "name": "python",
   "nbconvert_exporter": "python",
   "pygments_lexer": "ipython3",
   "version": "3.7.0"
  }
 },
 "nbformat": 4,
 "nbformat_minor": 2
}
