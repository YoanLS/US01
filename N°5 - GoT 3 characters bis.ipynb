{
 "cells": [
  {
   "cell_type": "markdown",
   "metadata": {},
   "source": [
    "# GAME OF THRONES: A GRAPH EXPERIMENT\n",
    "## get the extracted characters informations from pickles\n",
    "The dictionaries are loaded directly"
   ]
  },
  {
   "cell_type": "code",
   "execution_count": 7,
   "metadata": {},
   "outputs": [],
   "source": [
    "import pickle\n",
    "with open('characters.pickle','rb') as fp:\n",
    "    characters = pickle.load(fp)\n",
    "\n",
    "#characters"
   ]
  },
  {
   "cell_type": "code",
   "execution_count": 10,
   "metadata": {},
   "outputs": [],
   "source": [
    "with open('characters_links.pickle','rb') as fp:\n",
    "    character_links = pickle.load(fp)\n",
    "\n",
    "#character_links"
   ]
  },
  {
   "cell_type": "markdown",
   "metadata": {},
   "source": [
    "# Read the chapters and the book they belong to\n",
    "The books have been cut into chapters themselves into a book directory named GOT{x} where x is the book in order of publication. We read the whole directory to retain only text files. we create a chapter list containing the text of the chapter and the book index"
   ]
  },
  {
   "cell_type": "code",
   "execution_count": 11,
   "metadata": {},
   "outputs": [
    {
     "name": "stdout",
     "output_type": "stream",
     "text": [
      "found 345 chapters\n"
     ]
    }
   ],
   "source": [
    "import os\n",
    "from os.path import join\n",
    "\n",
    "chapters = []\n",
    "\n",
    "for root, dirs, files in os.walk('Downloads/US01-test-master/data'):\n",
    "    for name in files:\n",
    "        if name.endswith('txt'):\n",
    "            book = int(root.split('/')[-1][-1:])\n",
    "            with open(join(root,name),'r') as fp:\n",
    "                chapters.append((book,fp.read()))\n",
    "book               \n",
    "print('found',len(chapters),'chapters')\n",
    "#print(chapters[1])"
   ]
  },
  {
   "cell_type": "markdown",
   "metadata": {},
   "source": [
    "# For each Chapter, we analyze the entities and prepare the sentences¶\n",
    "Each chapter contains some Persons, that might be characters. We save them and their position together with the book they belong to. This will allow us to\n",
    "\n",
    "- get a distance between persons\n",
    "\n",
    "- disambiguate the characters using the book they appear in to"
   ]
  },
  {
   "cell_type": "code",
   "execution_count": 12,
   "metadata": {},
   "outputs": [],
   "source": [
    "def getCandidates(name, shortened, key, equal=True):\n",
    "    candidates=[]\n",
    "    for s in shortened:\n",
    "        if key != 'aliases':\n",
    "            if equal:\n",
    "                if name == s[key]:\n",
    "                    candidates.append(s)\n",
    "                elif name in s[key]:\n",
    "                    candidates.append(s)\n",
    "                \n",
    "    if len(candidates) > 0:\n",
    "        return candidates[0]['common_name']\n",
    "    \n",
    "    else:\n",
    "        None\n",
    "                 \n",
    "def lemmatize(name, book):\n",
    "    #add a character to the list if he is in the same book according to the \n",
    "    #function argument and wiki\n",
    "    shortened=[]\n",
    "    for c in characters:\n",
    "        if c['books'] is not None:\n",
    "            if book in c['books']:\n",
    "                shortened.append(c)\n",
    "                \n",
    "    candidate = getCandidates(name, shortened, 'common_name')\n",
    "    if candidate is not None :\n",
    "        return candidate\n",
    "        \n",
    "    candidate = getCandidates(name, shortened, 'short_name')\n",
    "    if candidate is not None :\n",
    "        return candidate\n",
    "        \n",
    "    candidate = getCandidates(name, shortened, 'fullname')\n",
    "    if candidate is not None :\n",
    "        return candidate\n",
    "        \n",
    "    candidate = getCandidates(name, shortened, 'alias')\n",
    "    if candidate is not None :\n",
    "        return candidate\n",
    "            \n",
    "                \n",
    "    \n",
    "    return None"
   ]
  },
  {
   "cell_type": "code",
   "execution_count": 13,
   "metadata": {},
   "outputs": [
    {
     "name": "stdout",
     "output_type": "stream",
     "text": [
      "dict_keys(['Waymar Royce', 'Gared', 'Royce', 'Ser Waymar Royce', 'Ser Waymar', 'Sworn', 'Bet', 'Mormont', 'Mallister', 'Mallisters', 'Will', 'Frost', 'Maester Aemon', 'Twilight', 'Down', 'Pale', 'Waymar', 'Tall', 'Robert', 'Would Gared', 'Bran', 'Mance Rayder', 'Robb', 'Jon', 'Eddard Stark', 'Jory Cassel', 'Eddard', 'Jon Snow', 'Ass', 'Race', 'Targaryen', 'Starks', 'Jory', 'Harwin', 'Stark', 'Snow', 'Desmond', 'Lady Stark', 'Something', 'Catelyn Tully Stark', 'Uncle Benjen', 'Ned', 'Grey Wind', 'Arya', 'Ghost', 'Septa Mordane', 'Mikken', 'Pentos', 'Myr', 'Run', 'Uncle Ben'])\n"
     ]
    }
   ],
   "source": [
    "import spacy\n",
    "from spacy.lang.en.stop_words import STOP_WORDS\n",
    "import networkx as nx\n",
    "\n",
    "STOPLIST = set([\"n't\", \"'s\", \"'m\", \"ca\"] + list(STOP_WORDS))\n",
    "#SYMBOLS = \" \".join(string.punctuation).split(\" \") + [\"-----\", \"---\", \"...\", \"“\", \"”\", '\\t','\\n']\n",
    "nlp = spacy.load('en_core_web_sm')\n",
    "\n",
    "characters = {}\n",
    "sentences = [] \n",
    "for i in range(len(chapters)):\n",
    "    if i > 2:\n",
    "        break\n",
    "    book, chapter = chapters[i]\n",
    "    chapter = chapter.strip().replace(\"\\n\", \" \").replace(\"\\t\", \" \")\n",
    "    doc = nlp(chapter)\n",
    "\n",
    "    for ent in doc.ents:\n",
    "        if ent.label_ == 'PERSON':\n",
    "            entity = ent.text.replace(\"'s\",'')\n",
    "            if ent.text not in characters.keys():\n",
    "                characters[entity] = {'books':set(),'positions':[]}\n",
    "            \n",
    "            characters[entity]['books'].add(book)\n",
    "            characters[entity]['positions'].append((ent.start, ent.end))\n",
    "            ent.merge(ent.root.tag_,ent.text, ent.label_)\n",
    "\n",
    "#Remove useless thing such as punctuation\n",
    "\n",
    "    sentence = []\n",
    "    for token in doc:\n",
    "       #print(token.ent_type_, token.text, token.pos_)\n",
    "        if token.ent_type_ == 'PERSON':\n",
    "            text = token.text.replace(' ', '_').replace(\"'s\",'')\n",
    "            tag = token.ent_type_\n",
    "            sentence.append('%s|%s' % (text, tag))\n",
    "        elif token.pos_ not in ['PUNCT','SPACE']:\n",
    "            sentence.append(token.lemma_.strip() if token.lemma_ != \"-PRON-\" else token.lower_)\n",
    "        elif token.pos_ == 'PUNCT' and token.text == '.':\n",
    "            sentences.append(sentence)\n",
    "            sentences.append([word for word in sentence if word not in STOPLIST])\n",
    "            sentence = []\n",
    "\n",
    "print(characters.keys())"
   ]
  },
  {
   "cell_type": "code",
   "execution_count": 15,
   "metadata": {},
   "outputs": [
    {
     "ename": "TypeError",
     "evalue": "string indices must be integers",
     "output_type": "error",
     "traceback": [
      "\u001b[1;31m---------------------------------------------------------------------------\u001b[0m",
      "\u001b[1;31mTypeError\u001b[0m                                 Traceback (most recent call last)",
      "\u001b[1;32m<ipython-input-15-7c83cb14afcf>\u001b[0m in \u001b[0;36m<module>\u001b[1;34m()\u001b[0m\n\u001b[1;32m----> 1\u001b[1;33m \u001b[0mprint\u001b[0m\u001b[1;33m(\u001b[0m\u001b[0mlemmatize\u001b[0m\u001b[1;33m(\u001b[0m\u001b[1;34m'Ned'\u001b[0m\u001b[1;33m,\u001b[0m\u001b[1;36m2\u001b[0m\u001b[1;33m)\u001b[0m\u001b[1;33m)\u001b[0m\u001b[1;33m\u001b[0m\u001b[0m\n\u001b[0m",
      "\u001b[1;32m<ipython-input-12-cf5a4a389e08>\u001b[0m in \u001b[0;36mlemmatize\u001b[1;34m(name, book)\u001b[0m\n\u001b[0;32m     20\u001b[0m     \u001b[0mshortened\u001b[0m\u001b[1;33m=\u001b[0m\u001b[1;33m[\u001b[0m\u001b[1;33m]\u001b[0m\u001b[1;33m\u001b[0m\u001b[0m\n\u001b[0;32m     21\u001b[0m     \u001b[1;32mfor\u001b[0m \u001b[0mc\u001b[0m \u001b[1;32min\u001b[0m \u001b[0mcharacters\u001b[0m\u001b[1;33m:\u001b[0m\u001b[1;33m\u001b[0m\u001b[0m\n\u001b[1;32m---> 22\u001b[1;33m         \u001b[1;32mif\u001b[0m \u001b[0mc\u001b[0m\u001b[1;33m[\u001b[0m\u001b[1;34m'books'\u001b[0m\u001b[1;33m]\u001b[0m \u001b[1;32mis\u001b[0m \u001b[1;32mnot\u001b[0m \u001b[1;32mNone\u001b[0m\u001b[1;33m:\u001b[0m\u001b[1;33m\u001b[0m\u001b[0m\n\u001b[0m\u001b[0;32m     23\u001b[0m             \u001b[1;32mif\u001b[0m \u001b[0mbook\u001b[0m \u001b[1;32min\u001b[0m \u001b[0mc\u001b[0m\u001b[1;33m[\u001b[0m\u001b[1;34m'books'\u001b[0m\u001b[1;33m]\u001b[0m\u001b[1;33m:\u001b[0m\u001b[1;33m\u001b[0m\u001b[0m\n\u001b[0;32m     24\u001b[0m                 \u001b[0mshortened\u001b[0m\u001b[1;33m.\u001b[0m\u001b[0mappend\u001b[0m\u001b[1;33m(\u001b[0m\u001b[0mc\u001b[0m\u001b[1;33m)\u001b[0m\u001b[1;33m\u001b[0m\u001b[0m\n",
      "\u001b[1;31mTypeError\u001b[0m: string indices must be integers"
     ]
    }
   ],
   "source": [
    "print(lemmatize('Ned',2))"
   ]
  },
  {
   "cell_type": "code",
   "execution_count": null,
   "metadata": {},
   "outputs": [],
   "source": []
  },
  {
   "cell_type": "code",
   "execution_count": null,
   "metadata": {},
   "outputs": [],
   "source": [
    "from gensim.models import Word2Vec\n",
    "model = Word2Vec(sentences, size=50, window=5, min_count=1, workers=4)\n",
    "model.wv.most_similar('Bran|PERSON')"
   ]
  },
  {
   "cell_type": "code",
   "execution_count": null,
   "metadata": {},
   "outputs": [],
   "source": [
    "import itertools\n",
    "couples = list(itertools.combinations(characters, 2))\n",
    "G.add_edges_from(couples)"
   ]
  },
  {
   "cell_type": "code",
   "execution_count": null,
   "metadata": {},
   "outputs": [],
   "source": [
    "print(nx.info(G))\n",
    "nx.write_gexf(G, 'one-chapter.gexf')"
   ]
  }
 ],
 "metadata": {
  "kernelspec": {
   "display_name": "Python 3",
   "language": "python",
   "name": "python3"
  },
  "language_info": {
   "codemirror_mode": {
    "name": "ipython",
    "version": 3
   },
   "file_extension": ".py",
   "mimetype": "text/x-python",
   "name": "python",
   "nbconvert_exporter": "python",
   "pygments_lexer": "ipython3",
   "version": "3.7.0"
  }
 },
 "nbformat": 4,
 "nbformat_minor": 2
}
